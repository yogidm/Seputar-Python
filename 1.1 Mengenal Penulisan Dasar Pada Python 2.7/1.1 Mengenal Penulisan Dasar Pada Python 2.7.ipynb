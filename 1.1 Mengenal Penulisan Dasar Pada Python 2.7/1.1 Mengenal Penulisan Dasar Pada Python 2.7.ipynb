{
 "cells": [
  {
   "cell_type": "markdown",
   "metadata": {},
   "source": [
    "# Mengenal Penulisan Dasar Pada Python 2.7"
   ]
  },
  {
   "cell_type": "markdown",
   "metadata": {},
   "source": [
    "Python merupakan sebuah bahasa pemograman yang ditujukan pada perancangan yang berfokus pada tingkat keterbacaan kode. Oleh karenanya Python diklaim sebagai bahasa yang menggabungkan kapabilitas, kemampuan, dengan sintaksis kode yang sangat jelas dan dilengkapi dengan fungsionalitas pustaka standar yang besar serta komprehensif. Python juga didukung oleh komunitas yang besar.\n",
    "\n",
    "Python memiliki 2 versi berbeda, yaitu Python versi 3.4.3 dan Python versi 2.7.10. Pada tutorial kali ini, kita menggunakan Python versi 2.7.10. Agar dapat menggunakan Python, pertama kita akan melakukan instalasi pada masing-masing komputer yang digunakan. \n",
    "\n",
    "#### Untuk Linux\n",
    "\n",
    "```\n",
    "sudo apt-get install idle\n",
    "```\n",
    "\n",
    "#### Untuk Windows\n",
    "\n",
    "Unduh dan install idle dari [tautan berikut](https://www.python.org/downloads/release/python-2714/)\n",
    "\n",
    "#### Untuk MacOS\n",
    "\n",
    "Unduh dan install dari [tautan berikut](https://www.python.org/downloads/release/python-2714/)"
   ]
  },
  {
   "cell_type": "markdown",
   "metadata": {},
   "source": [
    "### Kode awal Python "
   ]
  },
  {
   "cell_type": "markdown",
   "metadata": {},
   "source": [
    "Struktur penulisan code awal Python 2 diawali dengan deklarasi"
   ]
  },
  {
   "cell_type": "code",
   "execution_count": 1,
   "metadata": {},
   "outputs": [],
   "source": [
    "#!/usr/bin/env python"
   ]
  },
  {
   "cell_type": "markdown",
   "metadata": {},
   "source": [
    "Untuk menampilkan sebuah variabel atau kata, dapat digunakan perintah Print, semisal"
   ]
  },
  {
   "cell_type": "code",
   "execution_count": 2,
   "metadata": {},
   "outputs": [
    {
     "name": "stdout",
     "output_type": "stream",
     "text": [
      "Saya belajar Python\n"
     ]
    }
   ],
   "source": [
    "print (\"Saya belajar Python\")"
   ]
  },
  {
   "cell_type": "markdown",
   "metadata": {},
   "source": [
    "Penulisan pada Python menggunakan Case Sensitive atau penulisan huruf besar dan kecil sangat mempengaruhi kode pada Python. Semisal penulisan **print (\"Saya belajar Python\")** dengan huruf kecil semua pada perintah **print** nya akan berbedan apabila perintah print diubah dengan huruf besar pada huruf pertamanya atau kesemua tulisan print dikapital. **Print (\"Saya belajar Python\")** atau **PRINT (\"Saya belajar Python\")**\n",
    "\n",
    "##### Berikut adalah contoh error pada Python ketika salah pengetikan perintah karena Case Sensitive\n",
    "\n",
    "\n",
    "![alt text](https://raw.githubusercontent.com/yogidm/Seputar-Python/master/1.1%20Mengenal%20Penulisan%20Dasar%20Pada%20Python%202.7/Error%20Print.png)"
   ]
  },
  {
   "cell_type": "markdown",
   "metadata": {},
   "source": [
    "Untuk menggunakan komentar pada Python, dapat digunakan tanda pagar **#** pada awal garis kode yang akan dikomentarkan. Semisal:\n",
    "\n",
    "```python\n",
    "#Ini adalah komentar\n",
    "```"
   ]
  },
  {
   "cell_type": "code",
   "execution_count": 1,
   "metadata": {},
   "outputs": [],
   "source": [
    "#Ini adalah Komentar"
   ]
  },
  {
   "cell_type": "markdown",
   "metadata": {},
   "source": [
    "Atau untuk menampilkan sebuah variabel sebagai berikut:"
   ]
  },
  {
   "cell_type": "code",
   "execution_count": 7,
   "metadata": {},
   "outputs": [
    {
     "name": "stdout",
     "output_type": "stream",
     "text": [
      "450\n"
     ]
    }
   ],
   "source": [
    "panjang = 15\n",
    "lebar =  30\n",
    "luas = panjang * lebar\n",
    "\n",
    "print luas"
   ]
  },
  {
   "cell_type": "markdown",
   "metadata": {},
   "source": [
    "Setelah itu, baru barulah kita memasukkan bagian import header dari library yang kita butuhkan semisal:"
   ]
  },
  {
   "cell_type": "code",
   "execution_count": 8,
   "metadata": {},
   "outputs": [],
   "source": [
    "# Library yang biasanya digunakan untuk perhitungan matematika\n",
    "import math\n",
    "# Library yang biasanya digunakan untuk plot data menjadi sebuah grafik\n",
    "import matplotlib\n",
    "# Library yang biasanya digunakan untuk pengolahan citra digital\n",
    "import cv2\n",
    "# Library yang biasanya digunakan untuk pengolahan matrix\n",
    "import numpy"
   ]
  },
  {
   "cell_type": "markdown",
   "metadata": {},
   "source": [
    "Pada pendeklarasian library dari python yang akan digunakan, nama library tersebut dapat kita singkat sesuai dengan keinginan kita atau menggunakan huruf yang identik dengan nama library tersebut, semisal:"
   ]
  },
  {
   "cell_type": "code",
   "execution_count": 9,
   "metadata": {},
   "outputs": [],
   "source": [
    "import math as mt\n",
    "import matplotlib as mpl\n",
    "import cv2 as cv\n",
    "import numpy as np"
   ]
  },
  {
   "cell_type": "markdown",
   "metadata": {},
   "source": [
    "Ketika kita sudah terbiasa dengan sebuah library dan ingin mengefisiensikan library tersebut dengan memanggil fungsi library yang akan kita gunakan saja, maka bisa digunakan \"from x import y\" dimana x merupakan nama library yang akan kita gunakan dan y merupakan fungsi yang berada didalam library tersebut, semisal:"
   ]
  },
  {
   "cell_type": "code",
   "execution_count": 10,
   "metadata": {
    "scrolled": true
   },
   "outputs": [
    {
     "name": "stdout",
     "output_type": "stream",
     "text": [
      "7.06249608504e+12\n"
     ]
    }
   ],
   "source": [
    "from math import sqrt\n",
    "a = sqrt(150)\n",
    "print a*pow(15,10)"
   ]
  },
  {
   "cell_type": "markdown",
   "metadata": {},
   "source": [
    "Pada contoh lain dalam penulisan sebuah kode pada Python untuk menampilkan sebuah gambar dengan menggunakan library OpenCV. "
   ]
  },
  {
   "cell_type": "code",
   "execution_count": null,
   "metadata": {},
   "outputs": [],
   "source": [
    "from cv2 import imread as baca\n",
    "from cv2 import imshow as tampil\n",
    "\n",
    "# Baca gambar dengan nama file kinetic.png dengan 3 buah kanal warna yaitu RGB dan masukkan pada variabel gambar\n",
    "gambar = baca('Gambar/kinetic.png',3)\n",
    "\n",
    "# Tampilkan variabel gambar yang telah berisi Gambar kinetic.png\n",
    "tampil('Gambar ROS Kinetic',gambar)\n",
    "\n",
    "# Untuk memberikan jeda agar gambar dapat membuka window baru dan tampil\n",
    "k = cv2.waitKey(0)\n",
    "\n",
    "# Tekan esc pada window untuk menutup tampilannya\n",
    "if k == 27:\n",
    "    cv2.destroyAllWindows()"
   ]
  },
  {
   "cell_type": "markdown",
   "metadata": {},
   "source": [
    "Output\n",
    "\n",
    "![alt text](https://raw.githubusercontent.com/yogidm/Seputar-Python/master/1.1%20Mengenal%20Penulisan%20Dasar%20Pada%20Python%202.7/kinetic.png)\n"
   ]
  }
 ],
 "metadata": {
  "kernelspec": {
   "display_name": "Python 2",
   "language": "python",
   "name": "python2"
  },
  "language_info": {
   "codemirror_mode": {
    "name": "ipython",
    "version": 2
   },
   "file_extension": ".py",
   "mimetype": "text/x-python",
   "name": "python",
   "nbconvert_exporter": "python",
   "pygments_lexer": "ipython2",
   "version": "2.7.12"
  }
 },
 "nbformat": 4,
 "nbformat_minor": 2
}
