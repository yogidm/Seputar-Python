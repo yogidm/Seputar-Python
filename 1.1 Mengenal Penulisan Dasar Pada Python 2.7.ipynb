{
 "cells": [
  {
   "cell_type": "markdown",
   "metadata": {},
   "source": [
    "# 1.1 Mengenal Penulisan Dasar Pada Python 2.7"
   ]
  },
  {
   "cell_type": "markdown",
   "metadata": {},
   "source": [
    "Malang, Februari 2018\n",
    "\n",
    "https://github.com/yogidm"
   ]
  },
  {
   "cell_type": "markdown",
   "metadata": {},
   "source": [
    "Python merupakan sebuah bahasa pemograman yang..."
   ]
  },
  {
   "cell_type": "markdown",
   "metadata": {},
   "source": [
    "### Kode awal Python "
   ]
  },
  {
   "cell_type": "markdown",
   "metadata": {},
   "source": [
    "Struktur penulisan code awal Python diawali dengan deklarasi"
   ]
  },
  {
   "cell_type": "code",
   "execution_count": 21,
   "metadata": {
    "collapsed": true
   },
   "outputs": [],
   "source": [
    "#!/usr/bin/env python"
   ]
  },
  {
   "cell_type": "markdown",
   "metadata": {},
   "source": [
    "Setelah itu, baru barulah kita memasukkan bagian import header dari library yang kita butuhkan semisal:"
   ]
  },
  {
   "cell_type": "code",
   "execution_count": 22,
   "metadata": {
    "collapsed": true
   },
   "outputs": [],
   "source": [
    "# Library yang biasanya digunakan untuk perhitungan matematika\n",
    "import math\n",
    "# Library yang biasanya digunakan untuk plot data menjadi sebuah grafik\n",
    "import matplotlib\n",
    "# Library yang biasanya digunakan untuk pengolahan citra digital\n",
    "import cv2\n",
    "# Library yang biasanya digunakan untuk pengolahan matrix\n",
    "import numpy"
   ]
  },
  {
   "cell_type": "markdown",
   "metadata": {},
   "source": [
    "Pada pendeklarasian library dari python yang akan digunakan, nama library tersebut dapat kita singkat sesuai dengan keinginan kita atau menggunakan huruf yang identik dengan nama library tersebut, semisal:"
   ]
  },
  {
   "cell_type": "code",
   "execution_count": 23,
   "metadata": {
    "collapsed": true
   },
   "outputs": [],
   "source": [
    "import math as mt\n",
    "import matplotlib as mpl\n",
    "import cv2 as cv\n",
    "import numpy as np"
   ]
  },
  {
   "cell_type": "markdown",
   "metadata": {},
   "source": [
    "Ketika kita sudah terbiasa dengan sebuah library dan ingin mengefisiensikan library tersebut dengan memanggil fungsi library yang akan kita gunakan saja, maka bisa digunakan \"from x import y\" dimana x merupakan nama library yang akan kita gunakan dan y merupakan fungsi yang berada didalam library tersebut, semisal:"
   ]
  },
  {
   "cell_type": "code",
   "execution_count": 38,
   "metadata": {},
   "outputs": [
    {
     "name": "stdout",
     "output_type": "stream",
     "text": [
      "7.06249608504e+12\n"
     ]
    }
   ],
   "source": [
    "from math import sqrt\n",
    "a = sqrt(150)\n",
    "print a*pow(15,10)"
   ]
  },
  {
   "cell_type": "code",
   "execution_count": 26,
   "metadata": {},
   "outputs": [],
   "source": [
    "from cv2 import imread as baca\n",
    "from cv2 import imshow as tampil\n",
    "\n",
    "# Baca gambar dengan nama file kinetic.png dengan 3 buah kanal warna yaitu RGB dan masukkan pada variabel gambar\n",
    "gambar = baca('kinetic.png',3)\n",
    "\n",
    "# Tampilkan variabel gambar yang telah berisi Gambar kinetic.png\n",
    "tampil('Gambar ROS Kinetic',gambar)\n",
    "\n",
    "# Untuk memberikan jeda agar gambar dapat membuka window baru dan tampil\n",
    "k = cv2.waitKey(0)\n",
    "\n",
    "# Tekan esc pada window untuk menutup tampilannya\n",
    "if k == 27:\n",
    "    cv2.destroyAllWindows()"
   ]
  },
  {
   "cell_type": "code",
   "execution_count": null,
   "metadata": {
    "collapsed": true
   },
   "outputs": [],
   "source": []
  }
 ],
 "metadata": {
  "kernelspec": {
   "display_name": "Python 2",
   "language": "python",
   "name": "python2"
  },
  "language_info": {
   "codemirror_mode": {
    "name": "ipython",
    "version": 2
   },
   "file_extension": ".py",
   "mimetype": "text/x-python",
   "name": "python",
   "nbconvert_exporter": "python",
   "pygments_lexer": "ipython2",
   "version": "2.7.14"
  }
 },
 "nbformat": 4,
 "nbformat_minor": 2
}
